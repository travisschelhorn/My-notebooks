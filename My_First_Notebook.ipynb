{
  "nbformat": 4,
  "nbformat_minor": 0,
  "metadata": {
    "colab": {
      "name": "My First Notebook",
      "provenance": [],
      "authorship_tag": "ABX9TyMr8KnNSCcIsDo6S3FT7Phb",
      "include_colab_link": true
    },
    "kernelspec": {
      "name": "python3",
      "display_name": "Python 3"
    },
    "language_info": {
      "name": "python"
    }
  },
  "cells": [
    {
      "cell_type": "markdown",
      "metadata": {
        "id": "view-in-github",
        "colab_type": "text"
      },
      "source": [
        "<a href=\"https://colab.research.google.com/github/travisschelhorn/My-notebooks/blob/main/My_First_Notebook.ipynb\" target=\"_parent\"><img src=\"https://colab.research.google.com/assets/colab-badge.svg\" alt=\"Open In Colab\"/></a>"
      ]
    },
    {
      "cell_type": "markdown",
      "source": [
        ""
      ],
      "metadata": {
        "id": "UjAZl8nFwgeT"
      }
    },
    {
      "cell_type": "markdown",
      "source": [
        "This is some texts"
      ],
      "metadata": {
        "id": "mxstGUtPwo1U"
      }
    },
    {
      "cell_type": "markdown",
      "source": [
        "# My heading\n",
        "sentences\n",
        "## heading 2\n"
      ],
      "metadata": {
        "id": "8yCkTDDbxTBw"
      }
    },
    {
      "cell_type": "code",
      "source": [
        "# This is some example Python code\n",
        "# These lines starting with \"#\" are \"comments\"\n",
        "# Remember \"#\" means something different in Markdown than it does in Python\n",
        "\n",
        "print(\"HELLO WORLD!\")\n",
        "\n",
        "x = 2 + 2\n",
        "print(x)"
      ],
      "metadata": {
        "colab": {
          "base_uri": "https://localhost:8080/"
        },
        "id": "hG_Sq5_uyvJM",
        "outputId": "1c6c6358-0e46-4d23-ac02-ee92b2bcfaeb"
      },
      "execution_count": 1,
      "outputs": [
        {
          "output_type": "stream",
          "name": "stdout",
          "text": [
            "HELLO WORLD!\n",
            "4\n"
          ]
        }
      ]
    },
    {
      "cell_type": "markdown",
      "source": [
        "+ Item 1\n",
        "+ Item 2"
      ],
      "metadata": {
        "id": "Fmld_eyQxc8F"
      }
    },
    {
      "cell_type": "markdown",
      "source": [
        "This is a link [google] (https:www.google.com)"
      ],
      "metadata": {
        "id": "VyK8mH75xsCG"
      }
    }
  ]
}